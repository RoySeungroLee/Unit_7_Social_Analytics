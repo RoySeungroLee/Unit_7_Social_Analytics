{
 "cells": [
  {
   "cell_type": "code",
   "execution_count": 1,
   "metadata": {},
   "outputs": [],
   "source": [
    "# Dependencies\n",
    "import tweepy\n",
    "import json\n",
    "import numpy as np\n",
    "from config import consumer_key, consumer_secret, access_token, access_token_secret\n",
    "import matplotlib.pyplot as plt\n",
    "import pandas as pd\n",
    "#%matplotlib notebook"
   ]
  },
  {
   "cell_type": "code",
   "execution_count": 2,
   "metadata": {},
   "outputs": [],
   "source": [
    "# Import and Initialize Sentiment Analyzer\n",
    "from vaderSentiment.vaderSentiment import SentimentIntensityAnalyzer\n",
    "analyzer = SentimentIntensityAnalyzer()"
   ]
  },
  {
   "cell_type": "code",
   "execution_count": 3,
   "metadata": {},
   "outputs": [],
   "source": [
    "# Twitter API Keys\n",
    "consumer_key = consumer_key\n",
    "consumer_secret = consumer_secret\n",
    "access_token = access_token\n",
    "access_token_secret = access_token_secret"
   ]
  },
  {
   "cell_type": "code",
   "execution_count": 4,
   "metadata": {},
   "outputs": [],
   "source": [
    "# Setup Tweepy API Authentication\n",
    "auth = tweepy.OAuthHandler(consumer_key, consumer_secret)\n",
    "auth.set_access_token(access_token, access_token_secret)\n",
    "api = tweepy.API(auth, parser=tweepy.parsers.JSONParser())"
   ]
  },
  {
   "cell_type": "code",
   "execution_count": 5,
   "metadata": {},
   "outputs": [],
   "source": [
    "# Target Search Term\n",
    "target_term_0 = \"@BBCNews\"\n",
    "target_term_1 = \"@CBSNews\"\n",
    "target_term_2 = \"@CNN\"\n",
    "target_term_3 = \"@FoxNews\"\n",
    "target_term_4 = \"@nytimes\"\n",
    "#@CBSNews, @CNN,@BBCNews , @FoxNews, @@nytimes "
   ]
  },
  {
   "cell_type": "code",
   "execution_count": 6,
   "metadata": {},
   "outputs": [],
   "source": [
    "# Lists to hold sentiments\n",
    "compound_list_0 = []\n",
    "positive_list_0 = []\n",
    "negative_list_0 = []\n",
    "neutral_list_0 = []\n",
    "compound_list_1 = []\n",
    "positive_list_1 = []\n",
    "negative_list_1 = []\n",
    "neutral_list_1 = []\n",
    "compound_list_2 = []\n",
    "positive_list_2 = []\n",
    "negative_list_2 = []\n",
    "neutral_list_2 = []\n",
    "compound_list_3 = []\n",
    "positive_list_3 = []\n",
    "negative_list_3 = []\n",
    "neutral_list_3 = []\n",
    "compound_list_4 = []\n",
    "positive_list_4 = []\n",
    "negative_list_4 = []\n",
    "neutral_list_4 = []"
   ]
  },
  {
   "cell_type": "code",
   "execution_count": 7,
   "metadata": {},
   "outputs": [],
   "source": [
    "# Grab 25 tweets\n",
    "public_tweets_0 = api.search(target_term_0, count=100, result_type=\"recent\")\n",
    "public_tweets_1 = api.search(target_term_1, count=100, result_type=\"recent\")\n",
    "public_tweets_2 = api.search(target_term_2, count=100, result_type=\"recent\")\n",
    "public_tweets_3 = api.search(target_term_3, count=100, result_type=\"recent\")\n",
    "public_tweets_4 = api.search(target_term_4, count=100, result_type=\"recent\")"
   ]
  },
  {
   "cell_type": "code",
   "execution_count": 8,
   "metadata": {},
   "outputs": [],
   "source": [
    "# Loop through all tweets\n",
    "for tweet in public_tweets_0[\"statuses\"]:\n",
    "    # Run Vader Analysis on each tweet\n",
    "    compound = analyzer.polarity_scores(tweet[\"text\"])[\"compound\"]\n",
    "    pos = analyzer.polarity_scores(tweet[\"text\"])[\"pos\"]\n",
    "    neu = analyzer.polarity_scores(tweet[\"text\"])[\"neu\"]\n",
    "    neg = analyzer.polarity_scores(tweet[\"text\"])[\"neg\"]\n",
    "    # Add each value to the appropriate array\n",
    "    compound_list_0.append(compound)\n",
    "    positive_list_0.append(pos)\n",
    "    negative_list_0.append(neg)\n",
    "    neutral_list_0.append(neu)\n",
    "# Loop through all tweets\n",
    "for tweet in public_tweets_1[\"statuses\"]:\n",
    "    # Run Vader Analysis on each tweet\n",
    "    compound = analyzer.polarity_scores(tweet[\"text\"])[\"compound\"]\n",
    "    pos = analyzer.polarity_scores(tweet[\"text\"])[\"pos\"]\n",
    "    neu = analyzer.polarity_scores(tweet[\"text\"])[\"neu\"]\n",
    "    neg = analyzer.polarity_scores(tweet[\"text\"])[\"neg\"]\n",
    "    # Add each value to the appropriate array\n",
    "    compound_list_1.append(compound)\n",
    "    positive_list_1.append(pos)\n",
    "    negative_list_1.append(neg)\n",
    "    neutral_list_1.append(neu)\n",
    "# Loop through all tweets\n",
    "for tweet in public_tweets_2[\"statuses\"]:\n",
    "    # Run Vader Analysis on each tweet\n",
    "    compound = analyzer.polarity_scores(tweet[\"text\"])[\"compound\"]\n",
    "    pos = analyzer.polarity_scores(tweet[\"text\"])[\"pos\"]\n",
    "    neu = analyzer.polarity_scores(tweet[\"text\"])[\"neu\"]\n",
    "    neg = analyzer.polarity_scores(tweet[\"text\"])[\"neg\"]\n",
    "    # Add each value to the appropriate array\n",
    "    compound_list_2.append(compound)\n",
    "    positive_list_2.append(pos)\n",
    "    negative_list_2.append(neg)\n",
    "    neutral_list_2.append(neu)\n",
    "# Loop through all tweets\n",
    "for tweet in public_tweets_3[\"statuses\"]:\n",
    "    # Run Vader Analysis on each tweet\n",
    "    compound = analyzer.polarity_scores(tweet[\"text\"])[\"compound\"]\n",
    "    pos = analyzer.polarity_scores(tweet[\"text\"])[\"pos\"]\n",
    "    neu = analyzer.polarity_scores(tweet[\"text\"])[\"neu\"]\n",
    "    neg = analyzer.polarity_scores(tweet[\"text\"])[\"neg\"]\n",
    "    # Add each value to the appropriate array\n",
    "    compound_list_3.append(compound)\n",
    "    positive_list_3.append(pos)\n",
    "    negative_list_3.append(neg)\n",
    "    neutral_list_3.append(neu)\n",
    "# Loop through all tweets\n",
    "for tweet in public_tweets_4[\"statuses\"]:\n",
    "    # Run Vader Analysis on each tweet\n",
    "    compound = analyzer.polarity_scores(tweet[\"text\"])[\"compound\"]\n",
    "    pos = analyzer.polarity_scores(tweet[\"text\"])[\"pos\"]\n",
    "    neu = analyzer.polarity_scores(tweet[\"text\"])[\"neu\"]\n",
    "    neg = analyzer.polarity_scores(tweet[\"text\"])[\"neg\"]\n",
    "    # Add each value to the appropriate array\n",
    "    compound_list_4.append(compound)\n",
    "    positive_list_4.append(pos)\n",
    "    negative_list_4.append(neg)\n",
    "    neutral_list_4.append(neu)"
   ]
  },
  {
   "cell_type": "code",
   "execution_count": 9,
   "metadata": {},
   "outputs": [],
   "source": [
    "# Store the Average Sentiments\n",
    "sentiment_0 = {\"Compound\": np.mean(compound_list_0),\n",
    "             \"Positive\": np.mean(positive_list_0),\n",
    "             \"Neutral\": np.mean(negative_list_0),\n",
    "             \"Negative\": np.mean(neutral_list_0)}\n",
    "sentiment_1 = {\"Compound\": np.mean(compound_list_1),\n",
    "             \"Positive\": np.mean(positive_list_1),\n",
    "             \"Neutral\": np.mean(negative_list_1),\n",
    "             \"Negative\": np.mean(neutral_list_1)}\n",
    "sentiment_2 = {\"Compound\": np.mean(compound_list_2),\n",
    "             \"Positive\": np.mean(positive_list_2),\n",
    "             \"Neutral\": np.mean(negative_list_2),\n",
    "             \"Negative\": np.mean(neutral_list_2)}\n",
    "sentiment_3 = {\"Compound\": np.mean(compound_list_3),\n",
    "             \"Positive\": np.mean(positive_list_3),\n",
    "             \"Neutral\": np.mean(negative_list_3),\n",
    "             \"Negative\": np.mean(neutral_list_3)}\n",
    "sentiment_4 = {\"Compound\": np.mean(compound_list_4),\n",
    "             \"Positive\": np.mean(positive_list_4),\n",
    "             \"Neutral\": np.mean(negative_list_4),\n",
    "             \"Negative\": np.mean(neutral_list_4)}"
   ]
  },
  {
   "cell_type": "code",
   "execution_count": 10,
   "metadata": {},
   "outputs": [
    {
     "name": "stdout",
     "output_type": "stream",
     "text": [
      "lower number is older.\n"
     ]
    }
   ],
   "source": [
    "# To see which tweets are older\n",
    "if public_tweets_0['statuses'][10]['id'] < public_tweets_0['statuses'][11]['id']:\n",
    "    print(\"higher number is older.\")\n",
    "else:\n",
    "    print(\"lower number is older.\")"
   ]
  },
  {
   "cell_type": "code",
   "execution_count": 18,
   "metadata": {},
   "outputs": [],
   "source": [
    "backward = list(reversed(range(100)))\n",
    "a = compound_list_0\n",
    "b = compound_list_1\n",
    "c = compound_list_2\n",
    "d = compound_list_3\n",
    "e = compound_list_4\n",
    "\n",
    "df = pd.DataFrame()\n",
    "df[\"tweets ago\"]= backward\n",
    "df[\"BBC\"]= compound_list_0\n",
    "df[\"CBS\"]= compound_list_1\n",
    "df[\"CNN\"]= compound_list_2\n",
    "df[\"Fox\"]= compound_list_3\n",
    "df[\"New York Times\"]= compound_list_4\n",
    "#sales = [('tweets ago', backward),\n",
    "#         ('BBC', a), (\"CBS\", b), (\"CNN\", c), (\"Fox\", d), (\"New York Times\", e)]"
   ]
  },
  {
   "cell_type": "code",
   "execution_count": 19,
   "metadata": {},
   "outputs": [
    {
     "name": "stdout",
     "output_type": "stream",
     "text": [
      "100\n"
     ]
    }
   ],
   "source": [
    "#BBC list. Fluctuating number of tweets instead of getting 100. \n",
    "print(len(compound_list_1))"
   ]
  },
  {
   "cell_type": "code",
   "execution_count": 23,
   "metadata": {
    "scrolled": false
   },
   "outputs": [
    {
     "data": {
      "image/png": "[encoded data removed]",
      "text/plain": [
       "<Figure size 720x504 with 1 Axes>"
      ]
     },
     "metadata": {},
     "output_type": "display_data"
    },
    {
     "data": {
      "text/plain": [
       "<Figure size 432x288 with 0 Axes>"
      ]
     },
     "metadata": {},
     "output_type": "display_data"
    }
   ],
   "source": [
    "mpl_fig = plt.figure(figsize=(10,7))\n",
    "ax = mpl_fig.add_subplot(111)\n",
    "plt.xlim(100,0)\n",
    "plt.ylim(-1,1)\n",
    "plt.scatter(df[\"tweets ago\"],df[\"BBC\"], color = \"blue\", alpha=0.5)\n",
    "plt.scatter(df[\"tweets ago\"],df[\"CBS\"], color = \"green\", alpha=0.5)\n",
    "plt.scatter(df[\"tweets ago\"],df[\"CNN\"], color = \"red\", alpha=0.5)\n",
    "plt.scatter(df[\"tweets ago\"],df[\"Fox\"], color = \"purple\", alpha=0.5)\n",
    "plt.scatter(df[\"tweets ago\"],df[\"New York Times\"], color = \"yellow\", alpha=0.5)\n",
    "\n",
    "plt.xlabel(\"Tweets Ago\")\n",
    "plt.ylabel(\"Tweet Polarity\")\n",
    "plt.title(\"Sentiment Analysis of Media Tweets\")\n",
    "plt.legend()\n",
    "plt.show()\n",
    "plt.savefig('Scatter.png')"
   ]
  },
  {
   "cell_type": "code",
   "execution_count": 24,
   "metadata": {
    "scrolled": false
   },
   "outputs": [
    {
     "data": {
      "image/png": "[encoded data removed]",
      "text/plain": [
       "<Figure size 720x504 with 1 Axes>"
      ]
     },
     "metadata": {},
     "output_type": "display_data"
    }
   ],
   "source": [
    "mpl_fig2 = plt.figure(figsize=(10,7))\n",
    "ax2 = mpl_fig2.add_subplot(111)\n",
    "x = [\"BBC\",\"CBS\",\"CNN\",\"Fox\",\"NYT\"]\n",
    "y = [sentiment_0[\"Compound\"],sentiment_1[\"Compound\"],sentiment_2[\"Compound\"],sentiment_3[\"Compound\"],sentiment_4[\"Compound\"]]\n",
    "c = [\"blue\",\"green\",\"red\",\"purple\",\"yellow\"]\n",
    "plt.bar(x,y,color=c)\n",
    "plt.ylabel(\"Tweet Polarity\")\n",
    "plt.title(\"Overall Media Sentiment based on Twitter\")\n",
    "#putting in the numbers\n",
    "for a,b in zip(x, y):\n",
    "    plt.text(a, b, str(\"{:+.2f}\".format(b)))"
   ]
  },
  {
   "cell_type": "code",
   "execution_count": 26,
   "metadata": {},
   "outputs": [
    {
     "name": "stdout",
     "output_type": "stream",
     "text": [
      "Observation 1: From last 100 tweets pulled on July 14, 2018, CBS has the lowest compound score out of five companies, and NYT has the highest.\n",
      "Obervation 2: Observation 1 is further verified by the scatter plot showing more green and red dots towards the bottom, and yellow dots hovering more towards the top.\n",
      "Observation 3: In the scattre plot, we can see that many tweets had 0 compound score, representing how many of thse companies' tweets are balanced.\n"
     ]
    }
   ],
   "source": [
    "print(\"Observation 1: From last 100 tweets pulled on July 14, 2018, CBS has the lowest compound score out of five companies, and NYT has the highest.\")\n",
    "print(\"Obervation 2: Observation 1 is further verified by the scatter plot showing more green and red dots towards the bottom, and yellow dots hovering more towards the top.\")\n",
    "print(\"Observation 3: In the scattre plot, we can see that many tweets had 0 compound score, representing how many of thse companies' tweets are balanced.\")"
   ]
  },
  {
   "cell_type": "code",
   "execution_count": null,
   "metadata": {},
   "outputs": [],
   "source": []
  },
  {
   "cell_type": "code",
   "execution_count": null,
   "metadata": {},
   "outputs": [],
   "source": []
  }
 ],
 "metadata": {
  "kernelspec": {
   "display_name": "Python 3",
   "language": "python",
   "name": "python3"
  },
  "language_info": {
   "codemirror_mode": {
    "name": "ipython",
    "version": 3
   },
   "file_extension": ".py",
   "mimetype": "text/x-python",
   "name": "python",
   "nbconvert_exporter": "python",
   "pygments_lexer": "ipython3",
   "version": "3.6.5"
  }
 },
 "nbformat": 4,
 "nbformat_minor": 2
}
